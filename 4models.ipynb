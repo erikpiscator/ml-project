{
 "cells": [
  {
   "cell_type": "code",
   "execution_count": 8,
   "metadata": {},
   "outputs": [],
   "source": [
    "import numpy as np\n",
    "import pandas as pd\n",
    "\n",
    "import matplotlib.pyplot as plt\n",
    "import seaborn as sns\n",
    "\n",
    "from sklearn import preprocessing\n",
    "from sklearn.feature_selection import RFE\n",
    "from sklearn.preprocessing import StandardScaler"
   ]
  },
  {
   "cell_type": "code",
   "execution_count": 9,
   "metadata": {},
   "outputs": [
    {
     "data": {
      "text/html": [
       "<div>\n",
       "<style scoped>\n",
       "    .dataframe tbody tr th:only-of-type {\n",
       "        vertical-align: middle;\n",
       "    }\n",
       "\n",
       "    .dataframe tbody tr th {\n",
       "        vertical-align: top;\n",
       "    }\n",
       "\n",
       "    .dataframe thead th {\n",
       "        text-align: right;\n",
       "    }\n",
       "</style>\n",
       "<table border=\"1\" class=\"dataframe\">\n",
       "  <thead>\n",
       "    <tr style=\"text-align: right;\">\n",
       "      <th></th>\n",
       "      <th>danceability</th>\n",
       "      <th>energy</th>\n",
       "      <th>key</th>\n",
       "      <th>loudness</th>\n",
       "      <th>mode</th>\n",
       "      <th>speechiness</th>\n",
       "      <th>acousticness</th>\n",
       "      <th>instrumentalness</th>\n",
       "      <th>liveness</th>\n",
       "      <th>valence</th>\n",
       "      <th>tempo</th>\n",
       "      <th>Label</th>\n",
       "    </tr>\n",
       "  </thead>\n",
       "  <tbody>\n",
       "    <tr>\n",
       "      <th>0</th>\n",
       "      <td>0.545</td>\n",
       "      <td>0.884</td>\n",
       "      <td>5</td>\n",
       "      <td>-4.807</td>\n",
       "      <td>0</td>\n",
       "      <td>0.367</td>\n",
       "      <td>0.290000</td>\n",
       "      <td>0.000000</td>\n",
       "      <td>0.370</td>\n",
       "      <td>0.641</td>\n",
       "      <td>86.049</td>\n",
       "      <td>1</td>\n",
       "    </tr>\n",
       "    <tr>\n",
       "      <th>1</th>\n",
       "      <td>0.795</td>\n",
       "      <td>0.545</td>\n",
       "      <td>7</td>\n",
       "      <td>-8.153</td>\n",
       "      <td>1</td>\n",
       "      <td>0.343</td>\n",
       "      <td>0.003960</td>\n",
       "      <td>0.000000</td>\n",
       "      <td>0.273</td>\n",
       "      <td>0.809</td>\n",
       "      <td>91.967</td>\n",
       "      <td>1</td>\n",
       "    </tr>\n",
       "    <tr>\n",
       "      <th>2</th>\n",
       "      <td>0.489</td>\n",
       "      <td>0.871</td>\n",
       "      <td>5</td>\n",
       "      <td>-5.825</td>\n",
       "      <td>1</td>\n",
       "      <td>0.386</td>\n",
       "      <td>0.002850</td>\n",
       "      <td>0.000004</td>\n",
       "      <td>0.130</td>\n",
       "      <td>0.341</td>\n",
       "      <td>117.431</td>\n",
       "      <td>1</td>\n",
       "    </tr>\n",
       "    <tr>\n",
       "      <th>3</th>\n",
       "      <td>0.539</td>\n",
       "      <td>0.931</td>\n",
       "      <td>4</td>\n",
       "      <td>-1.803</td>\n",
       "      <td>0</td>\n",
       "      <td>0.262</td>\n",
       "      <td>0.000713</td>\n",
       "      <td>0.000000</td>\n",
       "      <td>0.204</td>\n",
       "      <td>0.685</td>\n",
       "      <td>85.571</td>\n",
       "      <td>0</td>\n",
       "    </tr>\n",
       "    <tr>\n",
       "      <th>4</th>\n",
       "      <td>0.918</td>\n",
       "      <td>0.734</td>\n",
       "      <td>11</td>\n",
       "      <td>-2.832</td>\n",
       "      <td>0</td>\n",
       "      <td>0.269</td>\n",
       "      <td>0.029400</td>\n",
       "      <td>0.000008</td>\n",
       "      <td>0.191</td>\n",
       "      <td>0.608</td>\n",
       "      <td>97.044</td>\n",
       "      <td>1</td>\n",
       "    </tr>\n",
       "  </tbody>\n",
       "</table>\n",
       "</div>"
      ],
      "text/plain": [
       "   danceability  energy  key  loudness  mode  speechiness  acousticness  \\\n",
       "0         0.545   0.884    5    -4.807     0        0.367      0.290000   \n",
       "1         0.795   0.545    7    -8.153     1        0.343      0.003960   \n",
       "2         0.489   0.871    5    -5.825     1        0.386      0.002850   \n",
       "3         0.539   0.931    4    -1.803     0        0.262      0.000713   \n",
       "4         0.918   0.734   11    -2.832     0        0.269      0.029400   \n",
       "\n",
       "   instrumentalness  liveness  valence    tempo  Label  \n",
       "0          0.000000     0.370    0.641   86.049      1  \n",
       "1          0.000000     0.273    0.809   91.967      1  \n",
       "2          0.000004     0.130    0.341  117.431      1  \n",
       "3          0.000000     0.204    0.685   85.571      0  \n",
       "4          0.000008     0.191    0.608   97.044      1  "
      ]
     },
     "execution_count": 9,
     "metadata": {},
     "output_type": "execute_result"
    }
   ],
   "source": [
    "df = pd.read_csv(\"project_train.csv\")\n",
    "df.head()"
   ]
  },
  {
   "cell_type": "markdown",
   "metadata": {},
   "source": [
    "# Ta bort punkter som är orimliga"
   ]
  },
  {
   "cell_type": "code",
   "execution_count": 10,
   "metadata": {},
   "outputs": [],
   "source": [
    "idx1 = df[df['energy'] == 734].index[0]\n",
    "idx2 = df[df['loudness'] == -6542].index[0]\n",
    "\n",
    "df.drop(index = [idx1, idx2], inplace = True)"
   ]
  },
  {
   "cell_type": "code",
   "execution_count": 11,
   "metadata": {},
   "outputs": [],
   "source": [
    "from sklearn.linear_model import LogisticRegression\n",
    "from sklearn.naive_bayes import GaussianNB\n",
    "from sklearn.tree import DecisionTreeClassifier\n",
    "from sklearn.neighbors import KNeighborsClassifier\n",
    "\n",
    "from sklearn.model_selection import train_test_split\n",
    "from sklearn.metrics import accuracy_score\n",
    "\n",
    "from sklearn.model_selection import KFold\n",
    "from sklearn.model_selection import cross_val_score\n",
    "from sklearn.metrics import confusion_matrix"
   ]
  },
  {
   "cell_type": "markdown",
   "metadata": {},
   "source": [
    "# Dela data på träning och test\n",
    "Tar med alla features. Splittar på test och träningsdata. Scala data så att logistic regression inte klagar."
   ]
  },
  {
   "cell_type": "code",
   "execution_count": 21,
   "metadata": {},
   "outputs": [],
   "source": [
    "y = df[\"Label\"]\n",
    "# variables = [\"energy\", \"loudness\", \"valence\", \"tempo\",\"acousticness\", \"instrumentalness\"] #, 'liveness', 'valence', 'tempo']\n",
    "X = df.drop([\"Label\"], axis=1) \n",
    "X_train, X_test, y_train, y_test = train_test_split(X, y, test_size=0.3, random_state=42)\n",
    "\n",
    "# Scale the training data and save the transform\n",
    "scaler = preprocessing.StandardScaler().fit(X_train)\n",
    "X_train_scaled = scaler.transform(X_train)\n",
    "\n",
    "X_test_scaled = scaler.transform(X_test)"
   ]
  },
  {
   "cell_type": "markdown",
   "metadata": {},
   "source": [
    "# Skapa och fitta modellerna\n",
    "visa resultat på träningsdata."
   ]
  },
  {
   "cell_type": "code",
   "execution_count": 26,
   "metadata": {},
   "outputs": [
    {
     "name": "stdout",
     "output_type": "stream",
     "text": [
      "Logistic Regression:  81.55\n",
      "Gaussian Naive Bayes:  71.13\n",
      "Decision Tree Classifier:  100.0\n",
      "K Nearest Neighbors:  82.74\n"
     ]
    }
   ],
   "source": [
    "# Logistic Regression\n",
    "log = LogisticRegression()\n",
    "log.fit(X_train_scaled,y_train)\n",
    "log_result_train = round(log.score(X_train_scaled,y_train)*100,2)\n",
    "\n",
    "# Gaussian Naive Bayes\n",
    "NB = GaussianNB()\n",
    "NB.fit(X_train,y_train)\n",
    "NB_result_train = round(NB.score(X_train,y_train)*100,2)\n",
    "\n",
    "# Decision Tree Classifier\n",
    "DT = DecisionTreeClassifier()\n",
    "DT.fit(X_train,y_train)\n",
    "DT_result_train = round(DT.score(X_train,y_train)*100, 2)\n",
    "\n",
    "# K Nearest Neighbors\n",
    "KNN = KNeighborsClassifier()\n",
    "KNN.fit(X_train,y_train)\n",
    "KNN_result_train = round(KNN.score(X_train,y_train)*100,2)\n",
    "\n",
    "print('Logistic Regression: ', log_result_train)\n",
    "print('Gaussian Naive Bayes: ', NB_result_train)\n",
    "print('Decision Tree Classifier: ', DT_result_train)\n",
    "print('K Nearest Neighbors: ', KNN_result_train)"
   ]
  },
  {
   "cell_type": "markdown",
   "metadata": {},
   "source": [
    "# Testa modellerna på testdata."
   ]
  },
  {
   "cell_type": "code",
   "execution_count": 29,
   "metadata": {},
   "outputs": [
    {
     "name": "stdout",
     "output_type": "stream",
     "text": [
      "1. Logistic Regression: 80.69\n",
      "2. Gaussian Naive Bayes: 68.97\n",
      "3. Decision Tree: 75.86\n",
      "4. K-NN: 68.28\n"
     ]
    }
   ],
   "source": [
    "log_result_test = round(log.score(X_test_scaled,y_test)*100,2)\n",
    "\n",
    "NB_result_test = round(NB.score(X_test,y_test)*100,2)\n",
    "\n",
    "DT_result_test = round(DT.score(X_test,y_test)*100,2)\n",
    "\n",
    "KNN_result_test = round(KNN.score(X_test,y_test)*100,2)\n",
    "\n",
    "print('1. Logistic Regression: {}'.format(log_result_test))\n",
    "print('2. Gaussian Naive Bayes: {}'.format(NB_result_test))\n",
    "print('3. Decision Tree: {}'.format(DT_result_test))\n",
    "print('4. K-NN: {}'.format(KNN_result_test))"
   ]
  },
  {
   "cell_type": "markdown",
   "metadata": {},
   "source": [
    "# Tuning of hyperparameters? CV and or ROC?\n",
    "Receiver operating characteristic."
   ]
  }
 ],
 "metadata": {
  "kernelspec": {
   "display_name": "Python 3",
   "language": "python",
   "name": "python3"
  },
  "language_info": {
   "codemirror_mode": {
    "name": "ipython",
    "version": 3
   },
   "file_extension": ".py",
   "mimetype": "text/x-python",
   "name": "python",
   "nbconvert_exporter": "python",
   "pygments_lexer": "ipython3",
   "version": "3.8.3"
  }
 },
 "nbformat": 4,
 "nbformat_minor": 4
}
